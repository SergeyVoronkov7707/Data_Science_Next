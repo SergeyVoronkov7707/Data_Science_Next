{
 "cells": [
  {
   "cell_type": "markdown",
   "id": "choice-mystery",
   "metadata": {},
   "source": [
    "Приведите по 2 примера, когда лучше максимизировать Precision, а когда Recall.\n",
    "\n",
    "Почему мы используем F-меру, почему, например, нельзя просто взять среднее от Precision и Recall?\n",
    "\n",
    "*Реализовать функции для подсчета Accuracy, Precision, Recall, F-score, которые на вход принимают y_true (истинные значения), y_pred (предсказанные значения), а на выход дается метрика."
   ]
  },
  {
   "cell_type": "markdown",
   "id": "prerequisite-whole",
   "metadata": {},
   "source": [
    "## Задание 1"
   ]
  },
  {
   "cell_type": "markdown",
   "id": "constitutional-banks",
   "metadata": {},
   "source": [
    "Precision: когда ложный рерузьтат недопустим\n",
    "\n",
    "1) При отправке писем, если одно сообщение имеет цену, то важно выбрать людей которые откликнутся на предложение, и даже если не все потенциальные клиенты откликнутся, это менее страшно чем потратить деньги на клиентов которым предложение не выгодно(то, что мы предлагаем бесплатный продукт)\n",
    "\n",
    "2) при пукупке дорогостоящего оборудования, закупить проверенное, но точно подходящее под производство\n",
    "\n",
    "Recall: когда ложное срабатывание не критично\n",
    "\n",
    "1) При покупке продуктов, нужно купить 200 фруктов, а  из них нужно 150 хороших, то лучше взять 200 и пулучить 30 плохих чем, если есть система отбора качества продуктов взять 150 и получить 2 плохих\n",
    "\n",
    "2) при исследовании популяции птиц редкого вида, лучше охватить больший круг похожий и потом сделать дополнительную выборку"
   ]
  },
  {
   "cell_type": "markdown",
   "id": "japanese-earthquake",
   "metadata": {},
   "source": [
    "## Задание 2"
   ]
  },
  {
   "cell_type": "markdown",
   "id": "soviet-haiti",
   "metadata": {},
   "source": [
    "F-score - метрика объединяющая в себе точность и полноту, выдавая как результат их гармоническое среднее, а коэффициент  𝛽 , позволяет балансировать вклад, вносимый точностью, тем самым акцентируя внимание на той метрике, максимизация которой для нас наиболее приоритетна.\n",
    "\n",
    "Если взять простое среднее, тогда мы можем каждая метрика будет равноценной при анализе, что является некорректной предпосылкой для решения многих задач где одна метрика важнее другой. Регулировка коэффициент  𝛽 позволяет выставлять веса и регулировать важность метрик  "
   ]
  },
  {
   "cell_type": "code",
   "execution_count": 3,
   "id": "metric-jaguar",
   "metadata": {},
   "outputs": [],
   "source": [
    "import numpy as np\n",
    "import pandas as pd\n",
    "\n",
    "import matplotlib.pyplot as plt\n",
    "import seaborn as sns\n",
    "from sklearn.tree import DecisionTreeClassifier\n",
    "from sklearn.model_selection import train_test_split, GridSearchCV\n",
    "from sklearn.metrics import (roc_auc_score, roc_curve, auc, confusion_matrix, \\\n",
    "                             accuracy_score, classification_report, plot_confusion_matrix, \\\n",
    "                             plot_precision_recall_curve, precision_recall_curve, recall_score,\n",
    "                             plot_roc_curve)"
   ]
  },
  {
   "cell_type": "markdown",
   "id": "conscious-kitty",
   "metadata": {},
   "source": [
    "# чтение данных"
   ]
  },
  {
   "cell_type": "code",
   "execution_count": 4,
   "id": "timely-parts",
   "metadata": {},
   "outputs": [],
   "source": [
    "DATASET_PATH = 'training_project_data.csv'\n",
    "PREP_DATASET_PATH = 'training_project_data_prep.csv'"
   ]
  },
  {
   "cell_type": "code",
   "execution_count": 5,
   "id": "mighty-nurse",
   "metadata": {},
   "outputs": [],
   "source": [
    "df = pd.read_csv(DATASET_PATH)"
   ]
  },
  {
   "cell_type": "code",
   "execution_count": 6,
   "id": "elect-assignment",
   "metadata": {},
   "outputs": [
    {
     "data": {
      "text/html": [
       "<div>\n",
       "<style scoped>\n",
       "    .dataframe tbody tr th:only-of-type {\n",
       "        vertical-align: middle;\n",
       "    }\n",
       "\n",
       "    .dataframe tbody tr th {\n",
       "        vertical-align: top;\n",
       "    }\n",
       "\n",
       "    .dataframe thead th {\n",
       "        text-align: right;\n",
       "    }\n",
       "</style>\n",
       "<table border=\"1\" class=\"dataframe\">\n",
       "  <thead>\n",
       "    <tr style=\"text-align: right;\">\n",
       "      <th></th>\n",
       "      <th>LIMIT_BAL</th>\n",
       "      <th>SEX</th>\n",
       "      <th>EDUCATION</th>\n",
       "      <th>MARRIAGE</th>\n",
       "      <th>AGE</th>\n",
       "      <th>PAY_1</th>\n",
       "      <th>PAY_2</th>\n",
       "      <th>PAY_3</th>\n",
       "      <th>PAY_4</th>\n",
       "      <th>PAY_5</th>\n",
       "      <th>...</th>\n",
       "      <th>BILL_AMT4</th>\n",
       "      <th>BILL_AMT5</th>\n",
       "      <th>BILL_AMT6</th>\n",
       "      <th>PAY_AMT1</th>\n",
       "      <th>PAY_AMT2</th>\n",
       "      <th>PAY_AMT3</th>\n",
       "      <th>PAY_AMT4</th>\n",
       "      <th>PAY_AMT5</th>\n",
       "      <th>PAY_AMT6</th>\n",
       "      <th>NEXT_MONTH_DEFAULT</th>\n",
       "    </tr>\n",
       "  </thead>\n",
       "  <tbody>\n",
       "    <tr>\n",
       "      <th>0</th>\n",
       "      <td>150000.0</td>\n",
       "      <td>2</td>\n",
       "      <td>2</td>\n",
       "      <td>2</td>\n",
       "      <td>24</td>\n",
       "      <td>1</td>\n",
       "      <td>2</td>\n",
       "      <td>0</td>\n",
       "      <td>0</td>\n",
       "      <td>0</td>\n",
       "      <td>...</td>\n",
       "      <td>17853.0</td>\n",
       "      <td>34527.0</td>\n",
       "      <td>28277.0</td>\n",
       "      <td>0.0</td>\n",
       "      <td>2145.0</td>\n",
       "      <td>10000.0</td>\n",
       "      <td>22000.0</td>\n",
       "      <td>3000.0</td>\n",
       "      <td>5093.0</td>\n",
       "      <td>0</td>\n",
       "    </tr>\n",
       "    <tr>\n",
       "      <th>1</th>\n",
       "      <td>50000.0</td>\n",
       "      <td>2</td>\n",
       "      <td>3</td>\n",
       "      <td>1</td>\n",
       "      <td>46</td>\n",
       "      <td>3</td>\n",
       "      <td>3</td>\n",
       "      <td>3</td>\n",
       "      <td>3</td>\n",
       "      <td>2</td>\n",
       "      <td>...</td>\n",
       "      <td>30748.0</td>\n",
       "      <td>30162.0</td>\n",
       "      <td>30016.0</td>\n",
       "      <td>0.0</td>\n",
       "      <td>0.0</td>\n",
       "      <td>0.0</td>\n",
       "      <td>0.0</td>\n",
       "      <td>3100.0</td>\n",
       "      <td>798.0</td>\n",
       "      <td>1</td>\n",
       "    </tr>\n",
       "    <tr>\n",
       "      <th>2</th>\n",
       "      <td>150000.0</td>\n",
       "      <td>2</td>\n",
       "      <td>2</td>\n",
       "      <td>1</td>\n",
       "      <td>41</td>\n",
       "      <td>-1</td>\n",
       "      <td>-1</td>\n",
       "      <td>-1</td>\n",
       "      <td>-1</td>\n",
       "      <td>0</td>\n",
       "      <td>...</td>\n",
       "      <td>6784.0</td>\n",
       "      <td>6923.0</td>\n",
       "      <td>14116.0</td>\n",
       "      <td>0.0</td>\n",
       "      <td>0.0</td>\n",
       "      <td>6784.0</td>\n",
       "      <td>159.0</td>\n",
       "      <td>167.0</td>\n",
       "      <td>760.0</td>\n",
       "      <td>0</td>\n",
       "    </tr>\n",
       "    <tr>\n",
       "      <th>3</th>\n",
       "      <td>150000.0</td>\n",
       "      <td>2</td>\n",
       "      <td>2</td>\n",
       "      <td>2</td>\n",
       "      <td>35</td>\n",
       "      <td>0</td>\n",
       "      <td>0</td>\n",
       "      <td>0</td>\n",
       "      <td>0</td>\n",
       "      <td>0</td>\n",
       "      <td>...</td>\n",
       "      <td>55182.0</td>\n",
       "      <td>48983.0</td>\n",
       "      <td>50136.0</td>\n",
       "      <td>3500.0</td>\n",
       "      <td>2000.0</td>\n",
       "      <td>20000.0</td>\n",
       "      <td>2000.0</td>\n",
       "      <td>2000.0</td>\n",
       "      <td>2000.0</td>\n",
       "      <td>0</td>\n",
       "    </tr>\n",
       "    <tr>\n",
       "      <th>4</th>\n",
       "      <td>70000.0</td>\n",
       "      <td>2</td>\n",
       "      <td>1</td>\n",
       "      <td>1</td>\n",
       "      <td>35</td>\n",
       "      <td>1</td>\n",
       "      <td>2</td>\n",
       "      <td>2</td>\n",
       "      <td>2</td>\n",
       "      <td>2</td>\n",
       "      <td>...</td>\n",
       "      <td>47026.0</td>\n",
       "      <td>45971.0</td>\n",
       "      <td>47573.0</td>\n",
       "      <td>0.0</td>\n",
       "      <td>6500.0</td>\n",
       "      <td>1800.0</td>\n",
       "      <td>0.0</td>\n",
       "      <td>2500.0</td>\n",
       "      <td>2000.0</td>\n",
       "      <td>0</td>\n",
       "    </tr>\n",
       "  </tbody>\n",
       "</table>\n",
       "<p>5 rows × 24 columns</p>\n",
       "</div>"
      ],
      "text/plain": [
       "   LIMIT_BAL  SEX  EDUCATION  MARRIAGE  AGE  PAY_1  PAY_2  PAY_3  PAY_4  \\\n",
       "0   150000.0    2          2         2   24      1      2      0      0   \n",
       "1    50000.0    2          3         1   46      3      3      3      3   \n",
       "2   150000.0    2          2         1   41     -1     -1     -1     -1   \n",
       "3   150000.0    2          2         2   35      0      0      0      0   \n",
       "4    70000.0    2          1         1   35      1      2      2      2   \n",
       "\n",
       "   PAY_5  ...  BILL_AMT4  BILL_AMT5  BILL_AMT6  PAY_AMT1  PAY_AMT2  PAY_AMT3  \\\n",
       "0      0  ...    17853.0    34527.0    28277.0       0.0    2145.0   10000.0   \n",
       "1      2  ...    30748.0    30162.0    30016.0       0.0       0.0       0.0   \n",
       "2      0  ...     6784.0     6923.0    14116.0       0.0       0.0    6784.0   \n",
       "3      0  ...    55182.0    48983.0    50136.0    3500.0    2000.0   20000.0   \n",
       "4      2  ...    47026.0    45971.0    47573.0       0.0    6500.0    1800.0   \n",
       "\n",
       "   PAY_AMT4  PAY_AMT5  PAY_AMT6  NEXT_MONTH_DEFAULT  \n",
       "0   22000.0    3000.0    5093.0                   0  \n",
       "1       0.0    3100.0     798.0                   1  \n",
       "2     159.0     167.0     760.0                   0  \n",
       "3    2000.0    2000.0    2000.0                   0  \n",
       "4       0.0    2500.0    2000.0                   0  \n",
       "\n",
       "[5 rows x 24 columns]"
      ]
     },
     "execution_count": 6,
     "metadata": {},
     "output_type": "execute_result"
    }
   ],
   "source": [
    "df.head()"
   ]
  },
  {
   "cell_type": "code",
   "execution_count": 7,
   "id": "maritime-provision",
   "metadata": {},
   "outputs": [],
   "source": [
    "for colname in ['SEX', 'EDUCATION', 'MARRIAGE', 'PAY_1', 'PAY_2', 'PAY_3', 'PAY_4', 'PAY_5', 'PAY_6']:\n",
    "    df[colname] = df[colname].astype(str)"
   ]
  },
  {
   "cell_type": "code",
   "execution_count": 8,
   "id": "negative-sharp",
   "metadata": {},
   "outputs": [
    {
     "data": {
      "text/plain": [
       "LIMIT_BAL             float64\n",
       "SEX                    object\n",
       "EDUCATION              object\n",
       "MARRIAGE               object\n",
       "AGE                     int64\n",
       "PAY_1                  object\n",
       "PAY_2                  object\n",
       "PAY_3                  object\n",
       "PAY_4                  object\n",
       "PAY_5                  object\n",
       "PAY_6                  object\n",
       "BILL_AMT1             float64\n",
       "BILL_AMT2             float64\n",
       "BILL_AMT3             float64\n",
       "BILL_AMT4             float64\n",
       "BILL_AMT5             float64\n",
       "BILL_AMT6             float64\n",
       "PAY_AMT1              float64\n",
       "PAY_AMT2              float64\n",
       "PAY_AMT3              float64\n",
       "PAY_AMT4              float64\n",
       "PAY_AMT5              float64\n",
       "PAY_AMT6              float64\n",
       "NEXT_MONTH_DEFAULT      int64\n",
       "dtype: object"
      ]
     },
     "execution_count": 8,
     "metadata": {},
     "output_type": "execute_result"
    }
   ],
   "source": [
    "df.dtypes"
   ]
  },
  {
   "cell_type": "code",
   "execution_count": 9,
   "id": "italic-valuable",
   "metadata": {},
   "outputs": [
    {
     "name": "stdout",
     "output_type": "stream",
     "text": [
      "SEX\n",
      "\n",
      "2    6068\n",
      "1    3932\n",
      "Name: SEX, dtype: int64\n",
      "****************************************************************************************************\n",
      "\n",
      "EDUCATION\n",
      "\n",
      "2    4678\n",
      "1    3496\n",
      "3    1674\n",
      "5      90\n",
      "4      42\n",
      "6      18\n",
      "0       2\n",
      "Name: EDUCATION, dtype: int64\n",
      "****************************************************************************************************\n",
      "\n",
      "MARRIAGE\n",
      "\n",
      "2    5332\n",
      "1    4547\n",
      "3     108\n",
      "0      13\n",
      "Name: MARRIAGE, dtype: int64\n",
      "****************************************************************************************************\n",
      "\n",
      "PAY_1\n",
      "\n",
      "0     4895\n",
      "-1    2852\n",
      "1     1217\n",
      "2      881\n",
      "3      155\n",
      "Name: PAY_1, dtype: int64\n",
      "****************************************************************************************************\n",
      "\n",
      "PAY_2\n",
      "\n",
      "0     5178\n",
      "-1    3318\n",
      "2     1318\n",
      "3      175\n",
      "1       11\n",
      "Name: PAY_2, dtype: int64\n",
      "****************************************************************************************************\n",
      "\n",
      "PAY_3\n",
      "\n",
      "0     5200\n",
      "-1    3379\n",
      "2     1288\n",
      "3      131\n",
      "1        2\n",
      "Name: PAY_3, dtype: int64\n",
      "****************************************************************************************************\n",
      "\n",
      "PAY_4\n",
      "\n",
      "0     5459\n",
      "-1    3360\n",
      "2     1064\n",
      "3      117\n",
      "Name: PAY_4, dtype: int64\n",
      "****************************************************************************************************\n",
      "\n",
      "PAY_5\n",
      "\n",
      "0     5601\n",
      "-1    3398\n",
      "2      894\n",
      "3      107\n",
      "Name: PAY_5, dtype: int64\n",
      "****************************************************************************************************\n",
      "\n",
      "PAY_6\n",
      "\n",
      "0     5394\n",
      "-1    3585\n",
      "2      927\n",
      "3       94\n",
      "Name: PAY_6, dtype: int64\n",
      "****************************************************************************************************\n",
      "\n"
     ]
    }
   ],
   "source": [
    "for cat_colname in df.select_dtypes(include='object').columns:\n",
    "    print(str(cat_colname) + '\\n\\n' + str(df[cat_colname].value_counts()) + '\\n' + '*' * 100 + '\\n')"
   ]
  },
  {
   "cell_type": "markdown",
   "id": "complicated-outside",
   "metadata": {},
   "source": [
    "# Обработка выбросов"
   ]
  },
  {
   "cell_type": "code",
   "execution_count": 10,
   "id": "british-ordinance",
   "metadata": {},
   "outputs": [],
   "source": [
    "df.loc[df['EDUCATION'] == '0', 'EDUCATION'] = df['EDUCATION'].mode()[0]"
   ]
  },
  {
   "cell_type": "code",
   "execution_count": 11,
   "id": "broke-token",
   "metadata": {},
   "outputs": [],
   "source": [
    "df.loc[df['MARRIAGE'] == '0', 'MARRIAGE'] = df['MARRIAGE'].mode()[0]"
   ]
  },
  {
   "cell_type": "markdown",
   "id": "continent-hands",
   "metadata": {},
   "source": [
    "# построение новых признаков"
   ]
  },
  {
   "cell_type": "code",
   "execution_count": 12,
   "id": "according-insight",
   "metadata": {},
   "outputs": [],
   "source": [
    "df['IS_MALE'] = df['SEX'].map({'1':'1', '2':'0'}).astype(int)"
   ]
  },
  {
   "cell_type": "code",
   "execution_count": 13,
   "id": "complex-synthesis",
   "metadata": {},
   "outputs": [],
   "source": [
    "for cat_colname in df.select_dtypes(include='object').columns[1:]:\n",
    "    df = pd.concat([df, pd.get_dummies(df[cat_colname], prefix=cat_colname)], axis=1)"
   ]
  },
  {
   "cell_type": "code",
   "execution_count": 14,
   "id": "modern-uzbekistan",
   "metadata": {},
   "outputs": [
    {
     "data": {
      "text/html": [
       "<div>\n",
       "<style scoped>\n",
       "    .dataframe tbody tr th:only-of-type {\n",
       "        vertical-align: middle;\n",
       "    }\n",
       "\n",
       "    .dataframe tbody tr th {\n",
       "        vertical-align: top;\n",
       "    }\n",
       "\n",
       "    .dataframe thead th {\n",
       "        text-align: right;\n",
       "    }\n",
       "</style>\n",
       "<table border=\"1\" class=\"dataframe\">\n",
       "  <thead>\n",
       "    <tr style=\"text-align: right;\">\n",
       "      <th></th>\n",
       "      <th>LIMIT_BAL</th>\n",
       "      <th>SEX</th>\n",
       "      <th>EDUCATION</th>\n",
       "      <th>MARRIAGE</th>\n",
       "      <th>AGE</th>\n",
       "      <th>PAY_1</th>\n",
       "      <th>PAY_2</th>\n",
       "      <th>PAY_3</th>\n",
       "      <th>PAY_4</th>\n",
       "      <th>PAY_5</th>\n",
       "      <th>...</th>\n",
       "      <th>PAY_4_2</th>\n",
       "      <th>PAY_4_3</th>\n",
       "      <th>PAY_5_-1</th>\n",
       "      <th>PAY_5_0</th>\n",
       "      <th>PAY_5_2</th>\n",
       "      <th>PAY_5_3</th>\n",
       "      <th>PAY_6_-1</th>\n",
       "      <th>PAY_6_0</th>\n",
       "      <th>PAY_6_2</th>\n",
       "      <th>PAY_6_3</th>\n",
       "    </tr>\n",
       "  </thead>\n",
       "  <tbody>\n",
       "    <tr>\n",
       "      <th>0</th>\n",
       "      <td>150000.0</td>\n",
       "      <td>2</td>\n",
       "      <td>2</td>\n",
       "      <td>2</td>\n",
       "      <td>24</td>\n",
       "      <td>1</td>\n",
       "      <td>2</td>\n",
       "      <td>0</td>\n",
       "      <td>0</td>\n",
       "      <td>0</td>\n",
       "      <td>...</td>\n",
       "      <td>0</td>\n",
       "      <td>0</td>\n",
       "      <td>0</td>\n",
       "      <td>1</td>\n",
       "      <td>0</td>\n",
       "      <td>0</td>\n",
       "      <td>0</td>\n",
       "      <td>1</td>\n",
       "      <td>0</td>\n",
       "      <td>0</td>\n",
       "    </tr>\n",
       "    <tr>\n",
       "      <th>1</th>\n",
       "      <td>50000.0</td>\n",
       "      <td>2</td>\n",
       "      <td>3</td>\n",
       "      <td>1</td>\n",
       "      <td>46</td>\n",
       "      <td>3</td>\n",
       "      <td>3</td>\n",
       "      <td>3</td>\n",
       "      <td>3</td>\n",
       "      <td>2</td>\n",
       "      <td>...</td>\n",
       "      <td>0</td>\n",
       "      <td>1</td>\n",
       "      <td>0</td>\n",
       "      <td>0</td>\n",
       "      <td>1</td>\n",
       "      <td>0</td>\n",
       "      <td>0</td>\n",
       "      <td>1</td>\n",
       "      <td>0</td>\n",
       "      <td>0</td>\n",
       "    </tr>\n",
       "    <tr>\n",
       "      <th>2</th>\n",
       "      <td>150000.0</td>\n",
       "      <td>2</td>\n",
       "      <td>2</td>\n",
       "      <td>1</td>\n",
       "      <td>41</td>\n",
       "      <td>-1</td>\n",
       "      <td>-1</td>\n",
       "      <td>-1</td>\n",
       "      <td>-1</td>\n",
       "      <td>0</td>\n",
       "      <td>...</td>\n",
       "      <td>0</td>\n",
       "      <td>0</td>\n",
       "      <td>0</td>\n",
       "      <td>1</td>\n",
       "      <td>0</td>\n",
       "      <td>0</td>\n",
       "      <td>0</td>\n",
       "      <td>1</td>\n",
       "      <td>0</td>\n",
       "      <td>0</td>\n",
       "    </tr>\n",
       "    <tr>\n",
       "      <th>3</th>\n",
       "      <td>150000.0</td>\n",
       "      <td>2</td>\n",
       "      <td>2</td>\n",
       "      <td>2</td>\n",
       "      <td>35</td>\n",
       "      <td>0</td>\n",
       "      <td>0</td>\n",
       "      <td>0</td>\n",
       "      <td>0</td>\n",
       "      <td>0</td>\n",
       "      <td>...</td>\n",
       "      <td>0</td>\n",
       "      <td>0</td>\n",
       "      <td>0</td>\n",
       "      <td>1</td>\n",
       "      <td>0</td>\n",
       "      <td>0</td>\n",
       "      <td>0</td>\n",
       "      <td>1</td>\n",
       "      <td>0</td>\n",
       "      <td>0</td>\n",
       "    </tr>\n",
       "    <tr>\n",
       "      <th>4</th>\n",
       "      <td>70000.0</td>\n",
       "      <td>2</td>\n",
       "      <td>1</td>\n",
       "      <td>1</td>\n",
       "      <td>35</td>\n",
       "      <td>1</td>\n",
       "      <td>2</td>\n",
       "      <td>2</td>\n",
       "      <td>2</td>\n",
       "      <td>2</td>\n",
       "      <td>...</td>\n",
       "      <td>1</td>\n",
       "      <td>0</td>\n",
       "      <td>0</td>\n",
       "      <td>0</td>\n",
       "      <td>1</td>\n",
       "      <td>0</td>\n",
       "      <td>0</td>\n",
       "      <td>1</td>\n",
       "      <td>0</td>\n",
       "      <td>0</td>\n",
       "    </tr>\n",
       "  </tbody>\n",
       "</table>\n",
       "<p>5 rows × 61 columns</p>\n",
       "</div>"
      ],
      "text/plain": [
       "   LIMIT_BAL SEX EDUCATION MARRIAGE  AGE PAY_1 PAY_2 PAY_3 PAY_4 PAY_5  ...  \\\n",
       "0   150000.0   2         2        2   24     1     2     0     0     0  ...   \n",
       "1    50000.0   2         3        1   46     3     3     3     3     2  ...   \n",
       "2   150000.0   2         2        1   41    -1    -1    -1    -1     0  ...   \n",
       "3   150000.0   2         2        2   35     0     0     0     0     0  ...   \n",
       "4    70000.0   2         1        1   35     1     2     2     2     2  ...   \n",
       "\n",
       "  PAY_4_2  PAY_4_3  PAY_5_-1  PAY_5_0  PAY_5_2  PAY_5_3  PAY_6_-1  PAY_6_0  \\\n",
       "0       0        0         0        1        0        0         0        1   \n",
       "1       0        1         0        0        1        0         0        1   \n",
       "2       0        0         0        1        0        0         0        1   \n",
       "3       0        0         0        1        0        0         0        1   \n",
       "4       1        0         0        0        1        0         0        1   \n",
       "\n",
       "   PAY_6_2  PAY_6_3  \n",
       "0        0        0  \n",
       "1        0        0  \n",
       "2        0        0  \n",
       "3        0        0  \n",
       "4        0        0  \n",
       "\n",
       "[5 rows x 61 columns]"
      ]
     },
     "execution_count": 14,
     "metadata": {},
     "output_type": "execute_result"
    }
   ],
   "source": [
    "df.head()"
   ]
  },
  {
   "cell_type": "markdown",
   "id": "afraid-maryland",
   "metadata": {},
   "source": [
    "# Сохранение обучающего датасета"
   ]
  },
  {
   "cell_type": "code",
   "execution_count": 15,
   "id": "artificial-julian",
   "metadata": {},
   "outputs": [],
   "source": [
    "df.to_csv(PREP_DATASET_PATH, index=False, encoding='utf-8')"
   ]
  },
  {
   "cell_type": "markdown",
   "id": "upper-multimedia",
   "metadata": {},
   "source": [
    "# обучение модели"
   ]
  },
  {
   "cell_type": "code",
   "execution_count": 16,
   "id": "studied-relation",
   "metadata": {},
   "outputs": [],
   "source": [
    "X = df.drop(columns='NEXT_MONTH_DEFAULT')\n",
    "y = df['NEXT_MONTH_DEFAULT']"
   ]
  },
  {
   "cell_type": "code",
   "execution_count": 17,
   "id": "brutal-steering",
   "metadata": {},
   "outputs": [
    {
     "data": {
      "text/plain": [
       "((7000, 60), (3000, 60))"
      ]
     },
     "execution_count": 17,
     "metadata": {},
     "output_type": "execute_result"
    }
   ],
   "source": [
    "X_train, X_test, y_train, y_test = train_test_split(X, y, test_size=0.3, shuffle=True, random_state=2)\n",
    "X_train.shape, X_test.shape"
   ]
  },
  {
   "cell_type": "code",
   "execution_count": 18,
   "id": "given-poetry",
   "metadata": {},
   "outputs": [
    {
     "name": "stdout",
     "output_type": "stream",
     "text": [
      "Wall time: 14.5 s\n"
     ]
    }
   ],
   "source": [
    "%%time\n",
    "tree = DecisionTreeClassifier(random_state=1)\n",
    "\n",
    "param_grid=[{\n",
    "             'max_depth': range(1, 7), \n",
    "             'min_samples_leaf': range(1, 7), \n",
    "            }]\n",
    "\n",
    "grid_search = GridSearchCV(tree, param_grid, cv=5, scoring='f1')\n",
    "grid_search.fit(X_train, y_train)\n",
    "tree = grid_search.best_estimator_"
   ]
  },
  {
   "cell_type": "code",
   "execution_count": 19,
   "id": "boring-bench",
   "metadata": {},
   "outputs": [
    {
     "data": {
      "text/plain": [
       "{'max_depth': 3, 'min_samples_leaf': 6}"
      ]
     },
     "execution_count": 19,
     "metadata": {},
     "output_type": "execute_result"
    }
   ],
   "source": [
    "grid_search.best_params_"
   ]
  },
  {
   "cell_type": "code",
   "execution_count": 20,
   "id": "charged-knock",
   "metadata": {},
   "outputs": [
    {
     "data": {
      "text/plain": [
       "array([[0.80078637, 0.19921363],\n",
       "       [0.80078637, 0.19921363],\n",
       "       [0.89638205, 0.10361795],\n",
       "       [0.89638205, 0.10361795],\n",
       "       [0.89638205, 0.10361795]])"
      ]
     },
     "execution_count": 20,
     "metadata": {},
     "output_type": "execute_result"
    }
   ],
   "source": [
    "pred_train = tree.predict(X_train)\n",
    "pred_test = tree.predict(X_test)\n",
    "\n",
    "pred_proba_test = tree.predict_proba(X_test)\n",
    "pred_proba_test[:5]"
   ]
  },
  {
   "cell_type": "markdown",
   "id": "dramatic-customs",
   "metadata": {},
   "source": [
    "# подсчет метрик"
   ]
  },
  {
   "cell_type": "code",
   "execution_count": 21,
   "id": "noticed-founder",
   "metadata": {},
   "outputs": [],
   "source": [
    "from sklearn.metrics import precision_score, \\\n",
    "    recall_score, accuracy_score, f1_score"
   ]
  },
  {
   "cell_type": "code",
   "execution_count": 38,
   "id": "domestic-barrier",
   "metadata": {},
   "outputs": [],
   "source": [
    "def calc_score_train(y_train, pred_train):\n",
    "    accuracy_train = accuracy_score(y_train, pred_train)\n",
    "    \n",
    "    precision_train = precision_score(y_train, pred_train)\n",
    "    \n",
    "    f1_score_train = f1_score(y_train, pred_train)\n",
    "    \n",
    "    recall_score_train = recall_score(y_train, pred_train)\n",
    "    score = {\n",
    "        'accuracy': accuracy_train,\n",
    "        'precision': precision_train,\n",
    "        'f1': f1_score_train,\n",
    "        'recall': recall_score_train\n",
    "    }\n",
    "    for item, value in score.items():\n",
    "        print(item + '= ' + str(value) + '\\n\\n' + '*' * 50)\n"
   ]
  },
  {
   "cell_type": "code",
   "execution_count": 41,
   "id": "featured-rouge",
   "metadata": {},
   "outputs": [],
   "source": [
    "def calc_score_test(y_test, pred_test):\n",
    "    accuracy_test = accuracy_score(y_test, pred_test)\n",
    "    \n",
    "    precision_test = precision_score(y_test, pred_test)\n",
    "    \n",
    "    f1_score_test = f1_score(y_test, pred_test)\n",
    "    \n",
    "    recall_score_test = recall_score(y_test, pred_test)\n",
    "    score = {\n",
    "        'accuracy': accuracy_test,\n",
    "        'precision': precision_test,\n",
    "        'f1': f1_score_test,\n",
    "        'recall': recall_score_test\n",
    "    }\n",
    "    for item, value in score.items():\n",
    "        print(item + '= ' + str(value) + '\\n\\n' + '*' * 50)"
   ]
  },
  {
   "cell_type": "code",
   "execution_count": 39,
   "id": "interpreted-haven",
   "metadata": {},
   "outputs": [
    {
     "name": "stdout",
     "output_type": "stream",
     "text": [
      "accuracy= 0.8275714285714286\n",
      "\n",
      "**************************************************\n",
      "precision= 0.701067615658363\n",
      "\n",
      "**************************************************\n",
      "f1= 0.49476768522394315\n",
      "\n",
      "**************************************************\n",
      "recall= 0.38227684346701163\n",
      "\n",
      "**************************************************\n"
     ]
    }
   ],
   "source": [
    "calc_score_train(y_train, pred_train)"
   ]
  },
  {
   "cell_type": "code",
   "execution_count": 42,
   "id": "arctic-flavor",
   "metadata": {},
   "outputs": [
    {
     "name": "stdout",
     "output_type": "stream",
     "text": [
      "accuracy= 0.821\n",
      "\n",
      "**************************************************\n",
      "precision= 0.6546961325966851\n",
      "\n",
      "**************************************************\n",
      "f1= 0.46884272997032644\n",
      "\n",
      "**************************************************\n",
      "recall= 0.36517719568567025\n",
      "\n",
      "**************************************************\n"
     ]
    }
   ],
   "source": [
    "calc_score_test(y_test, pred_test)"
   ]
  }
 ],
 "metadata": {
  "kernelspec": {
   "display_name": "Python 3",
   "language": "python",
   "name": "python3"
  },
  "language_info": {
   "codemirror_mode": {
    "name": "ipython",
    "version": 3
   },
   "file_extension": ".py",
   "mimetype": "text/x-python",
   "name": "python",
   "nbconvert_exporter": "python",
   "pygments_lexer": "ipython3",
   "version": "3.7.9"
  }
 },
 "nbformat": 4,
 "nbformat_minor": 5
}
